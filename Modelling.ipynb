{
 "cells": [
  {
   "cell_type": "code",
   "execution_count": 384,
   "metadata": {},
   "outputs": [],
   "source": [
    "import pandas as pd\n",
    "import numpy as np\n",
    "from sklearn.tree import DecisionTreeRegressor\n",
    "from sklearn.linear_model import LinearRegression\n",
    "from sklearn.ensemble import GradientBoostingRegressor\n",
    "from sklearn.ensemble import RandomForestRegressor\n",
    "from sklearn.metrics import mean_absolute_error, mean_squared_error, r2_score\n",
    "from sklearn.preprocessing import StandardScaler\n",
    "\n",
    "\n",
    "from sklearn.model_selection import GridSearchCV\n",
    "from sklearn.metrics import mean_squared_error, make_scorer\n"
   ]
  },
  {
   "cell_type": "code",
   "execution_count": 284,
   "metadata": {},
   "outputs": [],
   "source": [
    "df=pd.read_csv(\"data.csv\", index_col=False)"
   ]
  },
  {
   "cell_type": "code",
   "execution_count": 285,
   "metadata": {},
   "outputs": [],
   "source": [
    "numerical_cols=['Population',\n",
    "       'DrugNarcoticOffenses', 'DrugNarcoticViolations',\n",
    "       'DrugEquipmentViolations', 'GamblingOffenses', 'BettingWagering',\n",
    "       'OperatingPromotingAssistingGambling', 'GamblingEquipmentViolations',\n",
    "       'SportsTampering', 'PornographyObsceneMaterial', 'ProstitutionOffenses',\n",
    "       'Prostitution', 'AssistingorPromotingProstitution',\n",
    "       'WeaponLawViolations']"
   ]
  },
  {
   "cell_type": "code",
   "execution_count": 286,
   "metadata": {},
   "outputs": [
    {
     "name": "stdout",
     "output_type": "stream",
     "text": [
      "<class 'pandas.core.frame.DataFrame'>\n",
      "RangeIndex: 5235 entries, 0 to 5234\n",
      "Data columns (total 18 columns):\n",
      " #   Column                               Non-Null Count  Dtype  \n",
      "---  ------                               --------------  -----  \n",
      " 0   Unnamed: 0                           5235 non-null   int64  \n",
      " 1   State                                5235 non-null   object \n",
      " 2   AgencyType                           5235 non-null   object \n",
      " 3   AgencyName                           5235 non-null   object \n",
      " 4   Population                           5235 non-null   float64\n",
      " 5   DrugNarcoticOffenses                 4752 non-null   float64\n",
      " 6   DrugNarcoticViolations               4724 non-null   float64\n",
      " 7   DrugEquipmentViolations              3550 non-null   float64\n",
      " 8   GamblingOffenses                     219 non-null    float64\n",
      " 9   BettingWagering                      75 non-null     float64\n",
      " 10  OperatingPromotingAssistingGambling  132 non-null    float64\n",
      " 11  GamblingEquipmentViolations          78 non-null     float64\n",
      " 12  SportsTampering                      3 non-null      float64\n",
      " 13  PornographyObsceneMaterial           1600 non-null   float64\n",
      " 14  ProstitutionOffenses                 725 non-null    float64\n",
      " 15  Prostitution                         587 non-null    float64\n",
      " 16  AssistingorPromotingProstitution     349 non-null    float64\n",
      " 17  WeaponLawViolations                  3689 non-null   float64\n",
      "dtypes: float64(14), int64(1), object(3)\n",
      "memory usage: 736.3+ KB\n"
     ]
    }
   ],
   "source": [
    "df.info()"
   ]
  },
  {
   "cell_type": "code",
   "execution_count": 287,
   "metadata": {},
   "outputs": [
    {
     "data": {
      "text/plain": [
       "count    3689.000000\n",
       "mean       17.909461\n",
       "std        73.326599\n",
       "min         1.000000\n",
       "25%         2.000000\n",
       "50%         4.000000\n",
       "75%        11.000000\n",
       "max      1982.000000\n",
       "Name: WeaponLawViolations, dtype: float64"
      ]
     },
     "execution_count": 287,
     "metadata": {},
     "output_type": "execute_result"
    }
   ],
   "source": [
    "df['WeaponLawViolations'].describe()"
   ]
  },
  {
   "cell_type": "code",
   "execution_count": 288,
   "metadata": {},
   "outputs": [
    {
     "data": {
      "text/plain": [
       "<AxesSubplot:>"
      ]
     },
     "execution_count": 288,
     "metadata": {},
     "output_type": "execute_result"
    },
    {
     "data": {
      "image/png": "[encoded data removed]",
      "text/plain": [
       "<Figure size 720x504 with 1 Axes>"
      ]
     },
     "metadata": {
      "needs_background": "light"
     },
     "output_type": "display_data"
    }
   ],
   "source": [
    "df['WeaponLawViolations'].hist(bins=50)"
   ]
  },
  {
   "cell_type": "code",
   "execution_count": 289,
   "metadata": {},
   "outputs": [
    {
     "data": {
      "text/plain": [
       "Unnamed: 0  State      AgencyType  AgencyName    Population  DrugNarcoticOffenses  DrugNarcoticViolations  DrugEquipmentViolations  GamblingOffenses  BettingWagering  OperatingPromotingAssistingGambling  GamblingEquipmentViolations  SportsTampering  PornographyObsceneMaterial  ProstitutionOffenses  Prostitution  AssistingorPromotingProstitution  WeaponLawViolations\n",
       "3869        TENNESSEE  Cities      Murfreesboro  112247.0    14921.0               9592.0                  5329.0                   93.0              10.0             14.0                                 66.0                         3.0              96.0                        901.0                 899.0         2.0                               1061.0                 1\n",
       "dtype: int64"
      ]
     },
     "execution_count": 289,
     "metadata": {},
     "output_type": "execute_result"
    }
   ],
   "source": [
    "df.value_counts()"
   ]
  },
  {
   "cell_type": "code",
   "execution_count": 290,
   "metadata": {},
   "outputs": [],
   "source": [
    "df.drop('Unnamed: 0', axis=1, inplace=True)"
   ]
  },
  {
   "cell_type": "code",
   "execution_count": 291,
   "metadata": {},
   "outputs": [
    {
     "data": {
      "text/plain": [
       "State                                   0.000000\n",
       "AgencyType                              0.000000\n",
       "AgencyName                              0.000000\n",
       "Population                              0.000000\n",
       "DrugNarcoticOffenses                    9.226361\n",
       "DrugNarcoticViolations                  9.761223\n",
       "DrugEquipmentViolations                32.187202\n",
       "GamblingOffenses                       95.816619\n",
       "BettingWagering                        98.567335\n",
       "OperatingPromotingAssistingGambling    97.478510\n",
       "GamblingEquipmentViolations            98.510029\n",
       "SportsTampering                        99.942693\n",
       "PornographyObsceneMaterial             69.436485\n",
       "ProstitutionOffenses                   86.150907\n",
       "Prostitution                           88.787011\n",
       "AssistingorPromotingProstitution       93.333333\n",
       "WeaponLawViolations                    29.531996\n",
       "dtype: float64"
      ]
     },
     "execution_count": 291,
     "metadata": {},
     "output_type": "execute_result"
    }
   ],
   "source": [
    "null_percentages = df.isnull().sum() / len(df) * 100\n",
    "null_percentages"
   ]
  },
  {
   "cell_type": "code",
   "execution_count": 292,
   "metadata": {},
   "outputs": [],
   "source": [
    "null_percentages=pd.DataFrame(null_percentages)\n",
    "null_percentages.columns=['percentages of null values']"
   ]
  },
  {
   "cell_type": "code",
   "execution_count": 293,
   "metadata": {},
   "outputs": [
    {
     "data": {
      "text/html": [
       "<div>\n",
       "<style scoped>\n",
       "    .dataframe tbody tr th:only-of-type {\n",
       "        vertical-align: middle;\n",
       "    }\n",
       "\n",
       "    .dataframe tbody tr th {\n",
       "        vertical-align: top;\n",
       "    }\n",
       "\n",
       "    .dataframe thead th {\n",
       "        text-align: right;\n",
       "    }\n",
       "</style>\n",
       "<table border=\"1\" class=\"dataframe\">\n",
       "  <thead>\n",
       "    <tr style=\"text-align: right;\">\n",
       "      <th></th>\n",
       "      <th>percentages of null values</th>\n",
       "    </tr>\n",
       "  </thead>\n",
       "  <tbody>\n",
       "    <tr>\n",
       "      <th>State</th>\n",
       "      <td>0.000000</td>\n",
       "    </tr>\n",
       "    <tr>\n",
       "      <th>AgencyType</th>\n",
       "      <td>0.000000</td>\n",
       "    </tr>\n",
       "    <tr>\n",
       "      <th>AgencyName</th>\n",
       "      <td>0.000000</td>\n",
       "    </tr>\n",
       "    <tr>\n",
       "      <th>Population</th>\n",
       "      <td>0.000000</td>\n",
       "    </tr>\n",
       "    <tr>\n",
       "      <th>DrugNarcoticOffenses</th>\n",
       "      <td>9.226361</td>\n",
       "    </tr>\n",
       "    <tr>\n",
       "      <th>DrugNarcoticViolations</th>\n",
       "      <td>9.761223</td>\n",
       "    </tr>\n",
       "    <tr>\n",
       "      <th>DrugEquipmentViolations</th>\n",
       "      <td>32.187202</td>\n",
       "    </tr>\n",
       "    <tr>\n",
       "      <th>GamblingOffenses</th>\n",
       "      <td>95.816619</td>\n",
       "    </tr>\n",
       "    <tr>\n",
       "      <th>BettingWagering</th>\n",
       "      <td>98.567335</td>\n",
       "    </tr>\n",
       "    <tr>\n",
       "      <th>OperatingPromotingAssistingGambling</th>\n",
       "      <td>97.478510</td>\n",
       "    </tr>\n",
       "    <tr>\n",
       "      <th>GamblingEquipmentViolations</th>\n",
       "      <td>98.510029</td>\n",
       "    </tr>\n",
       "    <tr>\n",
       "      <th>SportsTampering</th>\n",
       "      <td>99.942693</td>\n",
       "    </tr>\n",
       "    <tr>\n",
       "      <th>PornographyObsceneMaterial</th>\n",
       "      <td>69.436485</td>\n",
       "    </tr>\n",
       "    <tr>\n",
       "      <th>ProstitutionOffenses</th>\n",
       "      <td>86.150907</td>\n",
       "    </tr>\n",
       "    <tr>\n",
       "      <th>Prostitution</th>\n",
       "      <td>88.787011</td>\n",
       "    </tr>\n",
       "    <tr>\n",
       "      <th>AssistingorPromotingProstitution</th>\n",
       "      <td>93.333333</td>\n",
       "    </tr>\n",
       "    <tr>\n",
       "      <th>WeaponLawViolations</th>\n",
       "      <td>29.531996</td>\n",
       "    </tr>\n",
       "  </tbody>\n",
       "</table>\n",
       "</div>"
      ],
      "text/plain": [
       "                                     percentages of null values\n",
       "State                                                  0.000000\n",
       "AgencyType                                             0.000000\n",
       "AgencyName                                             0.000000\n",
       "Population                                             0.000000\n",
       "DrugNarcoticOffenses                                   9.226361\n",
       "DrugNarcoticViolations                                 9.761223\n",
       "DrugEquipmentViolations                               32.187202\n",
       "GamblingOffenses                                      95.816619\n",
       "BettingWagering                                       98.567335\n",
       "OperatingPromotingAssistingGambling                   97.478510\n",
       "GamblingEquipmentViolations                           98.510029\n",
       "SportsTampering                                       99.942693\n",
       "PornographyObsceneMaterial                            69.436485\n",
       "ProstitutionOffenses                                  86.150907\n",
       "Prostitution                                          88.787011\n",
       "AssistingorPromotingProstitution                      93.333333\n",
       "WeaponLawViolations                                   29.531996"
      ]
     },
     "execution_count": 293,
     "metadata": {},
     "output_type": "execute_result"
    }
   ],
   "source": [
    "null_percentages"
   ]
  },
  {
   "cell_type": "code",
   "execution_count": 294,
   "metadata": {},
   "outputs": [],
   "source": [
    "# null_percentages.sort_values(by='percentages')"
   ]
  },
  {
   "cell_type": "code",
   "execution_count": 295,
   "metadata": {},
   "outputs": [],
   "source": [
    "df.fillna(0, inplace=True)"
   ]
  },
  {
   "cell_type": "code",
   "execution_count": 296,
   "metadata": {},
   "outputs": [
    {
     "data": {
      "text/plain": [
       "State                                  0.0\n",
       "AgencyType                             0.0\n",
       "AgencyName                             0.0\n",
       "Population                             0.0\n",
       "DrugNarcoticOffenses                   0.0\n",
       "DrugNarcoticViolations                 0.0\n",
       "DrugEquipmentViolations                0.0\n",
       "GamblingOffenses                       0.0\n",
       "BettingWagering                        0.0\n",
       "OperatingPromotingAssistingGambling    0.0\n",
       "GamblingEquipmentViolations            0.0\n",
       "SportsTampering                        0.0\n",
       "PornographyObsceneMaterial             0.0\n",
       "ProstitutionOffenses                   0.0\n",
       "Prostitution                           0.0\n",
       "AssistingorPromotingProstitution       0.0\n",
       "WeaponLawViolations                    0.0\n",
       "dtype: float64"
      ]
     },
     "execution_count": 296,
     "metadata": {},
     "output_type": "execute_result"
    }
   ],
   "source": [
    "null_percentages = df.isnull().sum() / len(df) * 100\n",
    "null_percentages"
   ]
  },
  {
   "cell_type": "code",
   "execution_count": null,
   "metadata": {},
   "outputs": [],
   "source": [
    "df.fillna(0, inplace=True)"
   ]
  },
  {
   "cell_type": "code",
   "execution_count": 297,
   "metadata": {},
   "outputs": [
    {
     "data": {
      "text/html": [
       "<div>\n",
       "<style scoped>\n",
       "    .dataframe tbody tr th:only-of-type {\n",
       "        vertical-align: middle;\n",
       "    }\n",
       "\n",
       "    .dataframe tbody tr th {\n",
       "        vertical-align: top;\n",
       "    }\n",
       "\n",
       "    .dataframe thead th {\n",
       "        text-align: right;\n",
       "    }\n",
       "</style>\n",
       "<table border=\"1\" class=\"dataframe\">\n",
       "  <thead>\n",
       "    <tr style=\"text-align: right;\">\n",
       "      <th></th>\n",
       "      <th>State</th>\n",
       "      <th>AgencyType</th>\n",
       "      <th>AgencyName</th>\n",
       "      <th>Population</th>\n",
       "      <th>DrugNarcoticOffenses</th>\n",
       "      <th>DrugNarcoticViolations</th>\n",
       "      <th>DrugEquipmentViolations</th>\n",
       "      <th>GamblingOffenses</th>\n",
       "      <th>BettingWagering</th>\n",
       "      <th>OperatingPromotingAssistingGambling</th>\n",
       "      <th>GamblingEquipmentViolations</th>\n",
       "      <th>SportsTampering</th>\n",
       "      <th>PornographyObsceneMaterial</th>\n",
       "      <th>ProstitutionOffenses</th>\n",
       "      <th>Prostitution</th>\n",
       "      <th>AssistingorPromotingProstitution</th>\n",
       "      <th>WeaponLawViolations</th>\n",
       "    </tr>\n",
       "  </thead>\n",
       "  <tbody>\n",
       "    <tr>\n",
       "      <th>0</th>\n",
       "      <td>ALABAMA</td>\n",
       "      <td>Cities</td>\n",
       "      <td>Hoover</td>\n",
       "      <td>82332.0</td>\n",
       "      <td>308.0</td>\n",
       "      <td>152.0</td>\n",
       "      <td>156.0</td>\n",
       "      <td>0.0</td>\n",
       "      <td>0.0</td>\n",
       "      <td>0.0</td>\n",
       "      <td>0.0</td>\n",
       "      <td>0.0</td>\n",
       "      <td>1.0</td>\n",
       "      <td>0.0</td>\n",
       "      <td>0.0</td>\n",
       "      <td>0.0</td>\n",
       "      <td>25.0</td>\n",
       "    </tr>\n",
       "    <tr>\n",
       "      <th>1</th>\n",
       "      <td>ARIZONA</td>\n",
       "      <td>Cities</td>\n",
       "      <td>Apache Junction</td>\n",
       "      <td>36986.0</td>\n",
       "      <td>2069.0</td>\n",
       "      <td>979.0</td>\n",
       "      <td>1090.0</td>\n",
       "      <td>0.0</td>\n",
       "      <td>0.0</td>\n",
       "      <td>0.0</td>\n",
       "      <td>0.0</td>\n",
       "      <td>0.0</td>\n",
       "      <td>16.0</td>\n",
       "      <td>0.0</td>\n",
       "      <td>0.0</td>\n",
       "      <td>0.0</td>\n",
       "      <td>75.0</td>\n",
       "    </tr>\n",
       "    <tr>\n",
       "      <th>2</th>\n",
       "      <td>ARIZONA</td>\n",
       "      <td>Cities</td>\n",
       "      <td>Gilbert</td>\n",
       "      <td>214264.0</td>\n",
       "      <td>437.0</td>\n",
       "      <td>208.0</td>\n",
       "      <td>229.0</td>\n",
       "      <td>0.0</td>\n",
       "      <td>0.0</td>\n",
       "      <td>0.0</td>\n",
       "      <td>0.0</td>\n",
       "      <td>0.0</td>\n",
       "      <td>5.0</td>\n",
       "      <td>2.0</td>\n",
       "      <td>1.0</td>\n",
       "      <td>1.0</td>\n",
       "      <td>40.0</td>\n",
       "    </tr>\n",
       "    <tr>\n",
       "      <th>3</th>\n",
       "      <td>ARIZONA</td>\n",
       "      <td>Metropolitan Counties</td>\n",
       "      <td>Yuma2</td>\n",
       "      <td>214264.0</td>\n",
       "      <td>66.0</td>\n",
       "      <td>44.0</td>\n",
       "      <td>22.0</td>\n",
       "      <td>0.0</td>\n",
       "      <td>0.0</td>\n",
       "      <td>0.0</td>\n",
       "      <td>0.0</td>\n",
       "      <td>0.0</td>\n",
       "      <td>1.0</td>\n",
       "      <td>0.0</td>\n",
       "      <td>0.0</td>\n",
       "      <td>0.0</td>\n",
       "      <td>4.0</td>\n",
       "    </tr>\n",
       "    <tr>\n",
       "      <th>4</th>\n",
       "      <td>ARKANSAS</td>\n",
       "      <td>Cities</td>\n",
       "      <td>Alma</td>\n",
       "      <td>5439.0</td>\n",
       "      <td>44.0</td>\n",
       "      <td>37.0</td>\n",
       "      <td>7.0</td>\n",
       "      <td>0.0</td>\n",
       "      <td>0.0</td>\n",
       "      <td>0.0</td>\n",
       "      <td>0.0</td>\n",
       "      <td>0.0</td>\n",
       "      <td>0.0</td>\n",
       "      <td>0.0</td>\n",
       "      <td>0.0</td>\n",
       "      <td>0.0</td>\n",
       "      <td>8.0</td>\n",
       "    </tr>\n",
       "  </tbody>\n",
       "</table>\n",
       "</div>"
      ],
      "text/plain": [
       "      State             AgencyType       AgencyName  Population  \\\n",
       "0   ALABAMA                 Cities           Hoover     82332.0   \n",
       "1   ARIZONA                 Cities  Apache Junction     36986.0   \n",
       "2   ARIZONA                 Cities          Gilbert    214264.0   \n",
       "3   ARIZONA  Metropolitan Counties            Yuma2    214264.0   \n",
       "4  ARKANSAS                 Cities             Alma      5439.0   \n",
       "\n",
       "   DrugNarcoticOffenses  DrugNarcoticViolations  DrugEquipmentViolations  \\\n",
       "0                 308.0                   152.0                    156.0   \n",
       "1                2069.0                   979.0                   1090.0   \n",
       "2                 437.0                   208.0                    229.0   \n",
       "3                  66.0                    44.0                     22.0   \n",
       "4                  44.0                    37.0                      7.0   \n",
       "\n",
       "   GamblingOffenses  BettingWagering  OperatingPromotingAssistingGambling  \\\n",
       "0               0.0              0.0                                  0.0   \n",
       "1               0.0              0.0                                  0.0   \n",
       "2               0.0              0.0                                  0.0   \n",
       "3               0.0              0.0                                  0.0   \n",
       "4               0.0              0.0                                  0.0   \n",
       "\n",
       "   GamblingEquipmentViolations  SportsTampering  PornographyObsceneMaterial  \\\n",
       "0                          0.0              0.0                         1.0   \n",
       "1                          0.0              0.0                        16.0   \n",
       "2                          0.0              0.0                         5.0   \n",
       "3                          0.0              0.0                         1.0   \n",
       "4                          0.0              0.0                         0.0   \n",
       "\n",
       "   ProstitutionOffenses  Prostitution  AssistingorPromotingProstitution  \\\n",
       "0                   0.0           0.0                               0.0   \n",
       "1                   0.0           0.0                               0.0   \n",
       "2                   2.0           1.0                               1.0   \n",
       "3                   0.0           0.0                               0.0   \n",
       "4                   0.0           0.0                               0.0   \n",
       "\n",
       "   WeaponLawViolations  \n",
       "0                 25.0  \n",
       "1                 75.0  \n",
       "2                 40.0  \n",
       "3                  4.0  \n",
       "4                  8.0  "
      ]
     },
     "execution_count": 297,
     "metadata": {},
     "output_type": "execute_result"
    }
   ],
   "source": [
    "df.head()"
   ]
  },
  {
   "cell_type": "code",
   "execution_count": 298,
   "metadata": {},
   "outputs": [
    {
     "data": {
      "text/plain": [
       "35"
      ]
     },
     "execution_count": 298,
     "metadata": {},
     "output_type": "execute_result"
    }
   ],
   "source": [
    "len(df['State'].value_counts())"
   ]
  },
  {
   "cell_type": "code",
   "execution_count": 299,
   "metadata": {},
   "outputs": [
    {
     "data": {
      "text/plain": [
       "3854"
      ]
     },
     "execution_count": 299,
     "metadata": {},
     "output_type": "execute_result"
    }
   ],
   "source": [
    "len(df['AgencyName'].value_counts())"
   ]
  },
  {
   "cell_type": "code",
   "execution_count": 300,
   "metadata": {},
   "outputs": [
    {
     "data": {
      "text/html": [
       "<div>\n",
       "<style scoped>\n",
       "    .dataframe tbody tr th:only-of-type {\n",
       "        vertical-align: middle;\n",
       "    }\n",
       "\n",
       "    .dataframe tbody tr th {\n",
       "        vertical-align: top;\n",
       "    }\n",
       "\n",
       "    .dataframe thead th {\n",
       "        text-align: right;\n",
       "    }\n",
       "</style>\n",
       "<table border=\"1\" class=\"dataframe\">\n",
       "  <thead>\n",
       "    <tr style=\"text-align: right;\">\n",
       "      <th></th>\n",
       "      <th>Population</th>\n",
       "      <th>DrugNarcoticOffenses</th>\n",
       "      <th>DrugNarcoticViolations</th>\n",
       "      <th>DrugEquipmentViolations</th>\n",
       "      <th>GamblingOffenses</th>\n",
       "      <th>BettingWagering</th>\n",
       "      <th>OperatingPromotingAssistingGambling</th>\n",
       "      <th>GamblingEquipmentViolations</th>\n",
       "      <th>SportsTampering</th>\n",
       "      <th>PornographyObsceneMaterial</th>\n",
       "      <th>ProstitutionOffenses</th>\n",
       "      <th>Prostitution</th>\n",
       "      <th>AssistingorPromotingProstitution</th>\n",
       "      <th>WeaponLawViolations</th>\n",
       "    </tr>\n",
       "  </thead>\n",
       "  <tbody>\n",
       "    <tr>\n",
       "      <th>Population</th>\n",
       "      <td>1.000000</td>\n",
       "      <td>0.040179</td>\n",
       "      <td>0.035173</td>\n",
       "      <td>0.045768</td>\n",
       "      <td>0.022609</td>\n",
       "      <td>0.010842</td>\n",
       "      <td>0.009088</td>\n",
       "      <td>0.031524</td>\n",
       "      <td>0.031735</td>\n",
       "      <td>0.025415</td>\n",
       "      <td>0.024532</td>\n",
       "      <td>0.028088</td>\n",
       "      <td>-0.006130</td>\n",
       "      <td>0.015703</td>\n",
       "    </tr>\n",
       "    <tr>\n",
       "      <th>DrugNarcoticOffenses</th>\n",
       "      <td>0.040179</td>\n",
       "      <td>1.000000</td>\n",
       "      <td>0.981365</td>\n",
       "      <td>0.907825</td>\n",
       "      <td>0.645405</td>\n",
       "      <td>0.437563</td>\n",
       "      <td>0.505552</td>\n",
       "      <td>0.573657</td>\n",
       "      <td>0.511656</td>\n",
       "      <td>0.666696</td>\n",
       "      <td>0.735474</td>\n",
       "      <td>0.711251</td>\n",
       "      <td>0.293332</td>\n",
       "      <td>0.765600</td>\n",
       "    </tr>\n",
       "    <tr>\n",
       "      <th>DrugNarcoticViolations</th>\n",
       "      <td>0.035173</td>\n",
       "      <td>0.981365</td>\n",
       "      <td>1.000000</td>\n",
       "      <td>0.810330</td>\n",
       "      <td>0.654936</td>\n",
       "      <td>0.481167</td>\n",
       "      <td>0.510956</td>\n",
       "      <td>0.532860</td>\n",
       "      <td>0.464096</td>\n",
       "      <td>0.665081</td>\n",
       "      <td>0.739558</td>\n",
       "      <td>0.706629</td>\n",
       "      <td>0.326219</td>\n",
       "      <td>0.815229</td>\n",
       "    </tr>\n",
       "    <tr>\n",
       "      <th>DrugEquipmentViolations</th>\n",
       "      <td>0.045768</td>\n",
       "      <td>0.907825</td>\n",
       "      <td>0.810330</td>\n",
       "      <td>1.000000</td>\n",
       "      <td>0.538869</td>\n",
       "      <td>0.284277</td>\n",
       "      <td>0.426600</td>\n",
       "      <td>0.586484</td>\n",
       "      <td>0.547479</td>\n",
       "      <td>0.581656</td>\n",
       "      <td>0.628859</td>\n",
       "      <td>0.626855</td>\n",
       "      <td>0.182592</td>\n",
       "      <td>0.555587</td>\n",
       "    </tr>\n",
       "    <tr>\n",
       "      <th>GamblingOffenses</th>\n",
       "      <td>0.022609</td>\n",
       "      <td>0.645405</td>\n",
       "      <td>0.654936</td>\n",
       "      <td>0.538869</td>\n",
       "      <td>1.000000</td>\n",
       "      <td>0.845619</td>\n",
       "      <td>0.826685</td>\n",
       "      <td>0.633037</td>\n",
       "      <td>0.521597</td>\n",
       "      <td>0.411720</td>\n",
       "      <td>0.593196</td>\n",
       "      <td>0.607452</td>\n",
       "      <td>0.113358</td>\n",
       "      <td>0.596619</td>\n",
       "    </tr>\n",
       "    <tr>\n",
       "      <th>BettingWagering</th>\n",
       "      <td>0.010842</td>\n",
       "      <td>0.437563</td>\n",
       "      <td>0.481167</td>\n",
       "      <td>0.284277</td>\n",
       "      <td>0.845619</td>\n",
       "      <td>1.000000</td>\n",
       "      <td>0.662411</td>\n",
       "      <td>0.166961</td>\n",
       "      <td>0.110111</td>\n",
       "      <td>0.281278</td>\n",
       "      <td>0.366693</td>\n",
       "      <td>0.364739</td>\n",
       "      <td>0.109335</td>\n",
       "      <td>0.577087</td>\n",
       "    </tr>\n",
       "    <tr>\n",
       "      <th>OperatingPromotingAssistingGambling</th>\n",
       "      <td>0.009088</td>\n",
       "      <td>0.505552</td>\n",
       "      <td>0.510956</td>\n",
       "      <td>0.426600</td>\n",
       "      <td>0.826685</td>\n",
       "      <td>0.662411</td>\n",
       "      <td>1.000000</td>\n",
       "      <td>0.375135</td>\n",
       "      <td>0.289678</td>\n",
       "      <td>0.358176</td>\n",
       "      <td>0.388204</td>\n",
       "      <td>0.380815</td>\n",
       "      <td>0.135150</td>\n",
       "      <td>0.485212</td>\n",
       "    </tr>\n",
       "    <tr>\n",
       "      <th>GamblingEquipmentViolations</th>\n",
       "      <td>0.031524</td>\n",
       "      <td>0.573657</td>\n",
       "      <td>0.532860</td>\n",
       "      <td>0.586484</td>\n",
       "      <td>0.633037</td>\n",
       "      <td>0.166961</td>\n",
       "      <td>0.375135</td>\n",
       "      <td>1.000000</td>\n",
       "      <td>0.863244</td>\n",
       "      <td>0.340345</td>\n",
       "      <td>0.624474</td>\n",
       "      <td>0.664555</td>\n",
       "      <td>0.027905</td>\n",
       "      <td>0.283367</td>\n",
       "    </tr>\n",
       "    <tr>\n",
       "      <th>SportsTampering</th>\n",
       "      <td>0.031735</td>\n",
       "      <td>0.511656</td>\n",
       "      <td>0.464096</td>\n",
       "      <td>0.547479</td>\n",
       "      <td>0.521597</td>\n",
       "      <td>0.110111</td>\n",
       "      <td>0.289678</td>\n",
       "      <td>0.863244</td>\n",
       "      <td>1.000000</td>\n",
       "      <td>0.309321</td>\n",
       "      <td>0.546409</td>\n",
       "      <td>0.587269</td>\n",
       "      <td>0.003304</td>\n",
       "      <td>0.218248</td>\n",
       "    </tr>\n",
       "    <tr>\n",
       "      <th>PornographyObsceneMaterial</th>\n",
       "      <td>0.025415</td>\n",
       "      <td>0.666696</td>\n",
       "      <td>0.665081</td>\n",
       "      <td>0.581656</td>\n",
       "      <td>0.411720</td>\n",
       "      <td>0.281278</td>\n",
       "      <td>0.358176</td>\n",
       "      <td>0.340345</td>\n",
       "      <td>0.309321</td>\n",
       "      <td>1.000000</td>\n",
       "      <td>0.485888</td>\n",
       "      <td>0.466521</td>\n",
       "      <td>0.206055</td>\n",
       "      <td>0.519304</td>\n",
       "    </tr>\n",
       "    <tr>\n",
       "      <th>ProstitutionOffenses</th>\n",
       "      <td>0.024532</td>\n",
       "      <td>0.735474</td>\n",
       "      <td>0.739558</td>\n",
       "      <td>0.628859</td>\n",
       "      <td>0.593196</td>\n",
       "      <td>0.366693</td>\n",
       "      <td>0.388204</td>\n",
       "      <td>0.624474</td>\n",
       "      <td>0.546409</td>\n",
       "      <td>0.485888</td>\n",
       "      <td>1.000000</td>\n",
       "      <td>0.967783</td>\n",
       "      <td>0.396217</td>\n",
       "      <td>0.603493</td>\n",
       "    </tr>\n",
       "    <tr>\n",
       "      <th>Prostitution</th>\n",
       "      <td>0.028088</td>\n",
       "      <td>0.711251</td>\n",
       "      <td>0.706629</td>\n",
       "      <td>0.626855</td>\n",
       "      <td>0.607452</td>\n",
       "      <td>0.364739</td>\n",
       "      <td>0.380815</td>\n",
       "      <td>0.664555</td>\n",
       "      <td>0.587269</td>\n",
       "      <td>0.466521</td>\n",
       "      <td>0.967783</td>\n",
       "      <td>1.000000</td>\n",
       "      <td>0.152273</td>\n",
       "      <td>0.542222</td>\n",
       "    </tr>\n",
       "    <tr>\n",
       "      <th>AssistingorPromotingProstitution</th>\n",
       "      <td>-0.006130</td>\n",
       "      <td>0.293332</td>\n",
       "      <td>0.326219</td>\n",
       "      <td>0.182592</td>\n",
       "      <td>0.113358</td>\n",
       "      <td>0.109335</td>\n",
       "      <td>0.135150</td>\n",
       "      <td>0.027905</td>\n",
       "      <td>0.003304</td>\n",
       "      <td>0.206055</td>\n",
       "      <td>0.396217</td>\n",
       "      <td>0.152273</td>\n",
       "      <td>1.000000</td>\n",
       "      <td>0.391642</td>\n",
       "    </tr>\n",
       "    <tr>\n",
       "      <th>WeaponLawViolations</th>\n",
       "      <td>0.015703</td>\n",
       "      <td>0.765600</td>\n",
       "      <td>0.815229</td>\n",
       "      <td>0.555587</td>\n",
       "      <td>0.596619</td>\n",
       "      <td>0.577087</td>\n",
       "      <td>0.485212</td>\n",
       "      <td>0.283367</td>\n",
       "      <td>0.218248</td>\n",
       "      <td>0.519304</td>\n",
       "      <td>0.603493</td>\n",
       "      <td>0.542222</td>\n",
       "      <td>0.391642</td>\n",
       "      <td>1.000000</td>\n",
       "    </tr>\n",
       "  </tbody>\n",
       "</table>\n",
       "</div>"
      ],
      "text/plain": [
       "                                     Population  DrugNarcoticOffenses  \\\n",
       "Population                             1.000000              0.040179   \n",
       "DrugNarcoticOffenses                   0.040179              1.000000   \n",
       "DrugNarcoticViolations                 0.035173              0.981365   \n",
       "DrugEquipmentViolations                0.045768              0.907825   \n",
       "GamblingOffenses                       0.022609              0.645405   \n",
       "BettingWagering                        0.010842              0.437563   \n",
       "OperatingPromotingAssistingGambling    0.009088              0.505552   \n",
       "GamblingEquipmentViolations            0.031524              0.573657   \n",
       "SportsTampering                        0.031735              0.511656   \n",
       "PornographyObsceneMaterial             0.025415              0.666696   \n",
       "ProstitutionOffenses                   0.024532              0.735474   \n",
       "Prostitution                           0.028088              0.711251   \n",
       "AssistingorPromotingProstitution      -0.006130              0.293332   \n",
       "WeaponLawViolations                    0.015703              0.765600   \n",
       "\n",
       "                                     DrugNarcoticViolations  \\\n",
       "Population                                         0.035173   \n",
       "DrugNarcoticOffenses                               0.981365   \n",
       "DrugNarcoticViolations                             1.000000   \n",
       "DrugEquipmentViolations                            0.810330   \n",
       "GamblingOffenses                                   0.654936   \n",
       "BettingWagering                                    0.481167   \n",
       "OperatingPromotingAssistingGambling                0.510956   \n",
       "GamblingEquipmentViolations                        0.532860   \n",
       "SportsTampering                                    0.464096   \n",
       "PornographyObsceneMaterial                         0.665081   \n",
       "ProstitutionOffenses                               0.739558   \n",
       "Prostitution                                       0.706629   \n",
       "AssistingorPromotingProstitution                   0.326219   \n",
       "WeaponLawViolations                                0.815229   \n",
       "\n",
       "                                     DrugEquipmentViolations  \\\n",
       "Population                                          0.045768   \n",
       "DrugNarcoticOffenses                                0.907825   \n",
       "DrugNarcoticViolations                              0.810330   \n",
       "DrugEquipmentViolations                             1.000000   \n",
       "GamblingOffenses                                    0.538869   \n",
       "BettingWagering                                     0.284277   \n",
       "OperatingPromotingAssistingGambling                 0.426600   \n",
       "GamblingEquipmentViolations                         0.586484   \n",
       "SportsTampering                                     0.547479   \n",
       "PornographyObsceneMaterial                          0.581656   \n",
       "ProstitutionOffenses                                0.628859   \n",
       "Prostitution                                        0.626855   \n",
       "AssistingorPromotingProstitution                    0.182592   \n",
       "WeaponLawViolations                                 0.555587   \n",
       "\n",
       "                                     GamblingOffenses  BettingWagering  \\\n",
       "Population                                   0.022609         0.010842   \n",
       "DrugNarcoticOffenses                         0.645405         0.437563   \n",
       "DrugNarcoticViolations                       0.654936         0.481167   \n",
       "DrugEquipmentViolations                      0.538869         0.284277   \n",
       "GamblingOffenses                             1.000000         0.845619   \n",
       "BettingWagering                              0.845619         1.000000   \n",
       "OperatingPromotingAssistingGambling          0.826685         0.662411   \n",
       "GamblingEquipmentViolations                  0.633037         0.166961   \n",
       "SportsTampering                              0.521597         0.110111   \n",
       "PornographyObsceneMaterial                   0.411720         0.281278   \n",
       "ProstitutionOffenses                         0.593196         0.366693   \n",
       "Prostitution                                 0.607452         0.364739   \n",
       "AssistingorPromotingProstitution             0.113358         0.109335   \n",
       "WeaponLawViolations                          0.596619         0.577087   \n",
       "\n",
       "                                     OperatingPromotingAssistingGambling  \\\n",
       "Population                                                      0.009088   \n",
       "DrugNarcoticOffenses                                            0.505552   \n",
       "DrugNarcoticViolations                                          0.510956   \n",
       "DrugEquipmentViolations                                         0.426600   \n",
       "GamblingOffenses                                                0.826685   \n",
       "BettingWagering                                                 0.662411   \n",
       "OperatingPromotingAssistingGambling                             1.000000   \n",
       "GamblingEquipmentViolations                                     0.375135   \n",
       "SportsTampering                                                 0.289678   \n",
       "PornographyObsceneMaterial                                      0.358176   \n",
       "ProstitutionOffenses                                            0.388204   \n",
       "Prostitution                                                    0.380815   \n",
       "AssistingorPromotingProstitution                                0.135150   \n",
       "WeaponLawViolations                                             0.485212   \n",
       "\n",
       "                                     GamblingEquipmentViolations  \\\n",
       "Population                                              0.031524   \n",
       "DrugNarcoticOffenses                                    0.573657   \n",
       "DrugNarcoticViolations                                  0.532860   \n",
       "DrugEquipmentViolations                                 0.586484   \n",
       "GamblingOffenses                                        0.633037   \n",
       "BettingWagering                                         0.166961   \n",
       "OperatingPromotingAssistingGambling                     0.375135   \n",
       "GamblingEquipmentViolations                             1.000000   \n",
       "SportsTampering                                         0.863244   \n",
       "PornographyObsceneMaterial                              0.340345   \n",
       "ProstitutionOffenses                                    0.624474   \n",
       "Prostitution                                            0.664555   \n",
       "AssistingorPromotingProstitution                        0.027905   \n",
       "WeaponLawViolations                                     0.283367   \n",
       "\n",
       "                                     SportsTampering  \\\n",
       "Population                                  0.031735   \n",
       "DrugNarcoticOffenses                        0.511656   \n",
       "DrugNarcoticViolations                      0.464096   \n",
       "DrugEquipmentViolations                     0.547479   \n",
       "GamblingOffenses                            0.521597   \n",
       "BettingWagering                             0.110111   \n",
       "OperatingPromotingAssistingGambling         0.289678   \n",
       "GamblingEquipmentViolations                 0.863244   \n",
       "SportsTampering                             1.000000   \n",
       "PornographyObsceneMaterial                  0.309321   \n",
       "ProstitutionOffenses                        0.546409   \n",
       "Prostitution                                0.587269   \n",
       "AssistingorPromotingProstitution            0.003304   \n",
       "WeaponLawViolations                         0.218248   \n",
       "\n",
       "                                     PornographyObsceneMaterial  \\\n",
       "Population                                             0.025415   \n",
       "DrugNarcoticOffenses                                   0.666696   \n",
       "DrugNarcoticViolations                                 0.665081   \n",
       "DrugEquipmentViolations                                0.581656   \n",
       "GamblingOffenses                                       0.411720   \n",
       "BettingWagering                                        0.281278   \n",
       "OperatingPromotingAssistingGambling                    0.358176   \n",
       "GamblingEquipmentViolations                            0.340345   \n",
       "SportsTampering                                        0.309321   \n",
       "PornographyObsceneMaterial                             1.000000   \n",
       "ProstitutionOffenses                                   0.485888   \n",
       "Prostitution                                           0.466521   \n",
       "AssistingorPromotingProstitution                       0.206055   \n",
       "WeaponLawViolations                                    0.519304   \n",
       "\n",
       "                                     ProstitutionOffenses  Prostitution  \\\n",
       "Population                                       0.024532      0.028088   \n",
       "DrugNarcoticOffenses                             0.735474      0.711251   \n",
       "DrugNarcoticViolations                           0.739558      0.706629   \n",
       "DrugEquipmentViolations                          0.628859      0.626855   \n",
       "GamblingOffenses                                 0.593196      0.607452   \n",
       "BettingWagering                                  0.366693      0.364739   \n",
       "OperatingPromotingAssistingGambling              0.388204      0.380815   \n",
       "GamblingEquipmentViolations                      0.624474      0.664555   \n",
       "SportsTampering                                  0.546409      0.587269   \n",
       "PornographyObsceneMaterial                       0.485888      0.466521   \n",
       "ProstitutionOffenses                             1.000000      0.967783   \n",
       "Prostitution                                     0.967783      1.000000   \n",
       "AssistingorPromotingProstitution                 0.396217      0.152273   \n",
       "WeaponLawViolations                              0.603493      0.542222   \n",
       "\n",
       "                                     AssistingorPromotingProstitution  \\\n",
       "Population                                                  -0.006130   \n",
       "DrugNarcoticOffenses                                         0.293332   \n",
       "DrugNarcoticViolations                                       0.326219   \n",
       "DrugEquipmentViolations                                      0.182592   \n",
       "GamblingOffenses                                             0.113358   \n",
       "BettingWagering                                              0.109335   \n",
       "OperatingPromotingAssistingGambling                          0.135150   \n",
       "GamblingEquipmentViolations                                  0.027905   \n",
       "SportsTampering                                              0.003304   \n",
       "PornographyObsceneMaterial                                   0.206055   \n",
       "ProstitutionOffenses                                         0.396217   \n",
       "Prostitution                                                 0.152273   \n",
       "AssistingorPromotingProstitution                             1.000000   \n",
       "WeaponLawViolations                                          0.391642   \n",
       "\n",
       "                                     WeaponLawViolations  \n",
       "Population                                      0.015703  \n",
       "DrugNarcoticOffenses                            0.765600  \n",
       "DrugNarcoticViolations                          0.815229  \n",
       "DrugEquipmentViolations                         0.555587  \n",
       "GamblingOffenses                                0.596619  \n",
       "BettingWagering                                 0.577087  \n",
       "OperatingPromotingAssistingGambling             0.485212  \n",
       "GamblingEquipmentViolations                     0.283367  \n",
       "SportsTampering                                 0.218248  \n",
       "PornographyObsceneMaterial                      0.519304  \n",
       "ProstitutionOffenses                            0.603493  \n",
       "Prostitution                                    0.542222  \n",
       "AssistingorPromotingProstitution                0.391642  \n",
       "WeaponLawViolations                             1.000000  "
      ]
     },
     "execution_count": 300,
     "metadata": {},
     "output_type": "execute_result"
    }
   ],
   "source": [
    "df.corr()"
   ]
  },
  {
   "cell_type": "code",
   "execution_count": 301,
   "metadata": {},
   "outputs": [
    {
     "data": {
      "image/png": "[encoded data removed]",
      "text/plain": [
       "<Figure size 720x504 with 2 Axes>"
      ]
     },
     "metadata": {
      "needs_background": "light"
     },
     "output_type": "display_data"
    }
   ],
   "source": [
    "import matplotlib.pyplot as plt\n",
    "import seaborn as sns\n",
    "cor_matrix = df.corr() #calculate the correlation matrix of the dataframe\n",
    "\n",
    "plt.rcParams['figure.figsize'] = (10,7)\n",
    "sns.heatmap(cor_matrix.abs()>0.8,annot=True) #heat map of correlation matrix\n",
    "plt.show()"
   ]
  },
  {
   "cell_type": "code",
   "execution_count": null,
   "metadata": {},
   "outputs": [
    {
     "data": {
      "image/png": "[encoded data removed]",
      "text/plain": [
       "<Figure size 720x504 with 2 Axes>"
      ]
     },
     "metadata": {},
     "output_type": "display_data"
    }
   ],
   "source": [
    "import matplotlib.pyplot as plt\n",
    "import seaborn as sns\n",
    "cor_matrix = df.corr() #calculate the correlation matrix of the dataframe\n",
    "\n",
    "plt.rcParams['figure.figsize'] = (10,7)\n",
    "sns.heatmap(cor_matrix.abs()>0.8,annot=True) #heat map of correlation matrix\n",
    "plt.show()"
   ]
  },
  {
   "cell_type": "code",
   "execution_count": 302,
   "metadata": {},
   "outputs": [
    {
     "data": {
      "text/plain": [
       "array([ 0,  1,  2,  3,  4,  5,  6,  7,  8,  9, 10, 11, 12, 13, 14, 15, 16,\n",
       "       17, 18, 19, 20, 21, 22, 23, 24, 25, 26, 27, 28, 29, 30, 31, 32, 33,\n",
       "       34])"
      ]
     },
     "execution_count": 302,
     "metadata": {},
     "output_type": "execute_result"
    }
   ],
   "source": [
    "from sklearn import preprocessing\n",
    "label_encoder = preprocessing.LabelEncoder()\n",
    "df['State']= label_encoder.fit_transform(df['State'])\n",
    "df['State'].unique()"
   ]
  },
  {
   "cell_type": "code",
   "execution_count": 303,
   "metadata": {},
   "outputs": [
    {
     "data": {
      "text/plain": [
       "array([0, 1, 6, 2, 3, 5, 4])"
      ]
     },
     "execution_count": 303,
     "metadata": {},
     "output_type": "execute_result"
    }
   ],
   "source": [
    "label_encoder = preprocessing.LabelEncoder()\n",
    "df['AgencyType']= label_encoder.fit_transform(df['AgencyType'])\n",
    "df['AgencyType'].unique()"
   ]
  },
  {
   "cell_type": "code",
   "execution_count": 304,
   "metadata": {},
   "outputs": [
    {
     "data": {
      "text/plain": [
       "array([1613,  106, 1308, ..., 3544, 2544, 3219])"
      ]
     },
     "execution_count": 304,
     "metadata": {},
     "output_type": "execute_result"
    }
   ],
   "source": [
    "label_encoder = preprocessing.LabelEncoder()\n",
    "df['AgencyName']= label_encoder.fit_transform(df['AgencyName'])\n",
    "df['AgencyName'].unique()"
   ]
  },
  {
   "attachments": {},
   "cell_type": "markdown",
   "metadata": {},
   "source": [
    "# Train Test Split"
   ]
  },
  {
   "cell_type": "code",
   "execution_count": 305,
   "metadata": {},
   "outputs": [],
   "source": [
    "X=df"
   ]
  },
  {
   "cell_type": "code",
   "execution_count": 306,
   "metadata": {},
   "outputs": [],
   "source": [
    "# X.drop(['DrugNarcoticOffenses','Prostitution','DrugNarcoticViolations', 'GamblingOffenses', 'ProstitutionOffenses'], axis=1, inplace = True)"
   ]
  },
  {
   "cell_type": "code",
   "execution_count": 307,
   "metadata": {},
   "outputs": [],
   "source": [
    "target=pd.read_csv('target.csv')"
   ]
  },
  {
   "cell_type": "code",
   "execution_count": 308,
   "metadata": {},
   "outputs": [],
   "source": [
    "y=target['TotalOffences']"
   ]
  },
  {
   "cell_type": "code",
   "execution_count": 309,
   "metadata": {},
   "outputs": [],
   "source": [
    "from sklearn.model_selection import train_test_split\n",
    "x_train, x_test, y_train, y_test = train_test_split(X,y, test_size=0.2, random_state=32)"
   ]
  },
  {
   "attachments": {},
   "cell_type": "markdown",
   "metadata": {},
   "source": [
    "# Scores Generator"
   ]
  },
  {
   "cell_type": "code",
   "execution_count": 396,
   "metadata": {},
   "outputs": [],
   "source": [
    "def score_generator(model, name='not-specified', type='train', std=False):\n",
    "    x_trains=x_train\n",
    "    x_tests=x_test\n",
    "    if(std==True):\n",
    "        scaler = StandardScaler()\n",
    "        X_std = scaler.fit_transform(x_train)\n",
    "        X_std_test = scaler.fit_transform(x_test)\n",
    "        x_trains=X_std\n",
    "        x_tests=X_std_test\n",
    "    if (type == 'train'):\n",
    "        y_pred = model.predict(x_trains)\n",
    "        y_true = y_train\n",
    "    elif (type == 'test'):\n",
    "        y_pred = model.predict(x_tests)\n",
    "        y_true = y_test\n",
    "    \n",
    "\n",
    "    mae = mean_absolute_error(y_true, y_pred)\n",
    "    mse = mean_squared_error(y_true, y_pred)\n",
    "    rmse = mean_squared_error(y_true, y_pred, squared=False)\n",
    "    r2 = r2_score(y_true, y_pred)\n",
    "\n",
    "    metrics_dict = {\n",
    "        'Mean Absolute Error (MAE)': mae,\n",
    "        'Mean Squared Error (MSE)': mse,\n",
    "        'Root Mean Squared Error (RMSE)': rmse,\n",
    "        'R-squared (R2)': r2\n",
    "    }\n",
    "\n",
    "    return metrics_dict\n"
   ]
  },
  {
   "attachments": {},
   "cell_type": "markdown",
   "metadata": {},
   "source": [
    "# Linear Model"
   ]
  },
  {
   "cell_type": "code",
   "execution_count": 311,
   "metadata": {},
   "outputs": [
    {
     "name": "stdout",
     "output_type": "stream",
     "text": [
      "Best parameters: {'fit_intercept': True}\n",
      "Best score: 3864684.7791024074\n"
     ]
    }
   ],
   "source": [
    "param_grid = {\n",
    "    \"fit_intercept\": [True, False],\n",
    "}\n",
    "\n",
    "regressor = LinearRegression()\n",
    "\n",
    "scoring = make_scorer(mean_squared_error, greater_is_better=False)\n",
    "\n",
    "grid_search = GridSearchCV(\n",
    "    regressor, param_grid=param_grid, cv=5, scoring=scoring\n",
    ")\n",
    "\n",
    "grid_search.fit(x_train, y_train)\n",
    "\n",
    "print(\"Best parameters:\", grid_search.best_params_)\n",
    "print(\"Best score:\", -grid_search.best_score_)"
   ]
  },
  {
   "cell_type": "code",
   "execution_count": 312,
   "metadata": {},
   "outputs": [
    {
     "data": {
      "text/plain": [
       "{'Mean Absolute Error (MAE)': 425.0036584453384,\n",
       " 'Mean Squared Error (MSE)': 1614614.4943821419,\n",
       " 'Root Mean Squared Error (RMSE)': 1270.6748185047745,\n",
       " 'R-squared (R2)': 0.8926223170156363}"
      ]
     },
     "execution_count": 312,
     "metadata": {},
     "output_type": "execute_result"
    }
   ],
   "source": [
    "score_generator(grid_search.best_estimator_, 'Linear Regressor', 'train')"
   ]
  },
  {
   "cell_type": "code",
   "execution_count": 314,
   "metadata": {},
   "outputs": [
    {
     "data": {
      "text/plain": [
       "{'Mean Absolute Error (MAE)': 394.594916007881,\n",
       " 'Mean Squared Error (MSE)': 2362052.2242556973,\n",
       " 'Root Mean Squared Error (RMSE)': 1536.8969465308003,\n",
       " 'R-squared (R2)': 0.7900349371183578}"
      ]
     },
     "execution_count": 314,
     "metadata": {},
     "output_type": "execute_result"
    }
   ],
   "source": [
    "score_generator(grid_search.best_estimator_, 'Linear Regressor', 'test')"
   ]
  },
  {
   "attachments": {},
   "cell_type": "markdown",
   "metadata": {},
   "source": [
    "# Lasso Regression"
   ]
  },
  {
   "cell_type": "code",
   "execution_count": 387,
   "metadata": {},
   "outputs": [
    {
     "name": "stderr",
     "output_type": "stream",
     "text": [
      "e:\\anaconda3\\envs\\mohit_chodisetti\\lib\\site-packages\\sklearn\\linear_model\\_coordinate_descent.py:631: ConvergenceWarning: Objective did not converge. You might want to increase the number of iterations, check the scale of the features or consider increasing regularisation. Duality gap: 1.143e+08, tolerance: 6.362e+06\n",
      "  model = cd_fast.enet_coordinate_descent(\n",
      "e:\\anaconda3\\envs\\mohit_chodisetti\\lib\\site-packages\\sklearn\\linear_model\\_coordinate_descent.py:631: ConvergenceWarning: Objective did not converge. You might want to increase the number of iterations, check the scale of the features or consider increasing regularisation. Duality gap: 8.030e+06, tolerance: 6.421e+06\n",
      "  model = cd_fast.enet_coordinate_descent(\n",
      "e:\\anaconda3\\envs\\mohit_chodisetti\\lib\\site-packages\\sklearn\\linear_model\\_coordinate_descent.py:631: ConvergenceWarning: Objective did not converge. You might want to increase the number of iterations, check the scale of the features or consider increasing regularisation. Duality gap: 1.460e+07, tolerance: 5.945e+06\n",
      "  model = cd_fast.enet_coordinate_descent(\n",
      "e:\\anaconda3\\envs\\mohit_chodisetti\\lib\\site-packages\\sklearn\\linear_model\\_coordinate_descent.py:631: ConvergenceWarning: Objective did not converge. You might want to increase the number of iterations, check the scale of the features or consider increasing regularisation. Duality gap: 1.159e+07, tolerance: 6.421e+06\n",
      "  model = cd_fast.enet_coordinate_descent(\n",
      "e:\\anaconda3\\envs\\mohit_chodisetti\\lib\\site-packages\\sklearn\\linear_model\\_coordinate_descent.py:631: ConvergenceWarning: Objective did not converge. You might want to increase the number of iterations, check the scale of the features or consider increasing regularisation. Duality gap: 1.333e+07, tolerance: 6.480e+06\n",
      "  model = cd_fast.enet_coordinate_descent(\n"
     ]
    },
    {
     "name": "stdout",
     "output_type": "stream",
     "text": [
      "Best hyperparameters: {'alpha': 10, 'tol': 0.01}\n",
      "Best score: 0.8051811835361835\n"
     ]
    }
   ],
   "source": [
    "from sklearn.preprocessing import StandardScaler\n",
    "from sklearn.linear_model import Lasso\n",
    "\n",
    "scaler = StandardScaler()\n",
    "X_std = scaler.fit_transform(X)\n",
    "\n",
    "# Define the Lasso regression model\n",
    "lasso = Lasso()\n",
    "\n",
    "# Define the hyperparameters for grid search\n",
    "param_grid = {\n",
    "    \"alpha\": [0.1, 1, 10],\n",
    "    \"tol\": [0.0001, 0.001, 0.01]\n",
    "}\n",
    "\n",
    "# Perform grid search with cross-validation\n",
    "grid_search = GridSearchCV(lasso, param_grid=param_grid, cv=5)\n",
    "grid_search.fit(X_std, y)\n",
    "\n",
    "# Print the best hyperparameters and the corresponding score\n",
    "print(\"Best hyperparameters:\", grid_search.best_params_)\n",
    "print(\"Best score:\", grid_search.best_score_)"
   ]
  },
  {
   "cell_type": "code",
   "execution_count": 392,
   "metadata": {},
   "outputs": [
    {
     "data": {
      "text/plain": [
       "{'Mean Absolute Error (MAE)': 411.06278441813356,\n",
       " 'Mean Squared Error (MSE)': 1692777.1093647236,\n",
       " 'Root Mean Squared Error (RMSE)': 1301.0676805472972,\n",
       " 'R-squared (R2)': 0.8874242214194239}"
      ]
     },
     "execution_count": 392,
     "metadata": {},
     "output_type": "execute_result"
    }
   ],
   "source": [
    "score_generator(grid_search.best_estimator_, 'Lasso', 'train', std=True)"
   ]
  },
  {
   "cell_type": "code",
   "execution_count": 397,
   "metadata": {},
   "outputs": [
    {
     "data": {
      "text/plain": [
       "{'Mean Absolute Error (MAE)': 408.2948314211231,\n",
       " 'Mean Squared Error (MSE)': 1752371.6990653689,\n",
       " 'Root Mean Squared Error (RMSE)': 1323.771770006208,\n",
       " 'R-squared (R2)': 0.8442300173518771}"
      ]
     },
     "execution_count": 397,
     "metadata": {},
     "output_type": "execute_result"
    }
   ],
   "source": [
    "score_generator(grid_search.best_estimator_, 'Lasso', 'test', std=True)"
   ]
  },
  {
   "attachments": {},
   "cell_type": "markdown",
   "metadata": {},
   "source": [
    "# Decision Tree Regressor"
   ]
  },
  {
   "cell_type": "code",
   "execution_count": 326,
   "metadata": {},
   "outputs": [
    {
     "name": "stdout",
     "output_type": "stream",
     "text": [
      "Best parameters: {'max_depth': 5, 'min_samples_leaf': 1, 'min_samples_split': 2}\n",
      "Best score: 4713706.241348198\n"
     ]
    }
   ],
   "source": [
    "param_grid = {\n",
    "    \"max_depth\": [5, 10, 15],\n",
    "    \"min_samples_split\": [2, 5, 10],\n",
    "    \"min_samples_leaf\": [1, 2, 4],\n",
    "}\n",
    "\n",
    "regressor = DecisionTreeRegressor()\n",
    "\n",
    "scoring = make_scorer(mean_squared_error, greater_is_better=False)\n",
    "\n",
    "grid_search = GridSearchCV(\n",
    "    regressor, param_grid=param_grid, cv=5, scoring=scoring\n",
    ")\n",
    "\n",
    "grid_search.fit(x_train, y_train)\n",
    "\n",
    "print(\"Best parameters:\", grid_search.best_params_)\n",
    "print(\"Best score:\", -grid_search.best_score_)\n"
   ]
  },
  {
   "cell_type": "code",
   "execution_count": 327,
   "metadata": {},
   "outputs": [
    {
     "data": {
      "text/plain": [
       "{'Mean Absolute Error (MAE)': 364.5604861917656,\n",
       " 'Mean Squared Error (MSE)': 1023726.4083266873,\n",
       " 'Root Mean Squared Error (RMSE)': 1011.7936589674237,\n",
       " 'R-squared (R2)': 0.9319185043126416}"
      ]
     },
     "execution_count": 327,
     "metadata": {},
     "output_type": "execute_result"
    }
   ],
   "source": [
    "score_generator(grid_search.best_estimator_, 'Decision Tree', 'train')"
   ]
  },
  {
   "cell_type": "code",
   "execution_count": 328,
   "metadata": {},
   "outputs": [
    {
     "data": {
      "text/plain": [
       "{'Mean Absolute Error (MAE)': 425.98274990246586,\n",
       " 'Mean Squared Error (MSE)': 5420882.521187987,\n",
       " 'Root Mean Squared Error (RMSE)': 2328.2788753042423,\n",
       " 'R-squared (R2)': 0.5181326103854941}"
      ]
     },
     "execution_count": 328,
     "metadata": {},
     "output_type": "execute_result"
    }
   ],
   "source": [
    "score_generator(grid_search.best_estimator_, 'Decision Tree', 'test')"
   ]
  },
  {
   "attachments": {},
   "cell_type": "markdown",
   "metadata": {},
   "source": [
    "# Random Forest"
   ]
  },
  {
   "cell_type": "code",
   "execution_count": 332,
   "metadata": {},
   "outputs": [
    {
     "name": "stdout",
     "output_type": "stream",
     "text": [
      "Best parameters: {'max_depth': 5, 'min_samples_leaf': 1, 'min_samples_split': 2, 'n_estimators': 100}\n",
      "Best score: 3037642.367734476\n"
     ]
    }
   ],
   "source": [
    "param_grid = {\n",
    "    \"n_estimators\": [2,100],\n",
    "    \"max_depth\": [5, 10],\n",
    "    \"min_samples_split\": [2, 5],\n",
    "    \"min_samples_leaf\": [1, 2],\n",
    "}\n",
    "\n",
    "regressor = RandomForestRegressor()\n",
    "\n",
    "scoring = make_scorer(mean_squared_error, greater_is_better=False)\n",
    "\n",
    "grid_search = GridSearchCV(\n",
    "    regressor, param_grid=param_grid, cv=5, scoring=scoring\n",
    ")\n",
    "\n",
    "grid_search.fit(x_train, y_train)\n",
    "\n",
    "print(\"Best parameters:\", grid_search.best_params_)\n",
    "print(\"Best score:\", -grid_search.best_score_)\n"
   ]
  },
  {
   "cell_type": "code",
   "execution_count": 333,
   "metadata": {},
   "outputs": [
    {
     "data": {
      "text/plain": [
       "{'Mean Absolute Error (MAE)': 326.7786572144915,\n",
       " 'Mean Squared Error (MSE)': 812872.1494044142,\n",
       " 'Root Mean Squared Error (RMSE)': 901.5942265811235,\n",
       " 'R-squared (R2)': 0.9459410724545947}"
      ]
     },
     "execution_count": 333,
     "metadata": {},
     "output_type": "execute_result"
    }
   ],
   "source": [
    "score_generator(grid_search.best_estimator_, 'Random Forest', 'train')"
   ]
  },
  {
   "cell_type": "code",
   "execution_count": 334,
   "metadata": {},
   "outputs": [
    {
     "data": {
      "text/plain": [
       "{'Mean Absolute Error (MAE)': 323.28422505839313,\n",
       " 'Mean Squared Error (MSE)': 1433637.6482989786,\n",
       " 'Root Mean Squared Error (RMSE)': 1197.3460854318514,\n",
       " 'R-squared (R2)': 0.8725625894789704}"
      ]
     },
     "execution_count": 334,
     "metadata": {},
     "output_type": "execute_result"
    }
   ],
   "source": [
    "score_generator(grid_search.best_estimator_, 'Random Forest', 'test')"
   ]
  },
  {
   "attachments": {},
   "cell_type": "markdown",
   "metadata": {},
   "source": [
    "# Gradient Boosting Regressor"
   ]
  },
  {
   "cell_type": "code",
   "execution_count": 358,
   "metadata": {},
   "outputs": [
    {
     "name": "stdout",
     "output_type": "stream",
     "text": [
      "Best parameters: {'n_estimators': 150, 'min_samples_split': 2, 'min_samples_leaf': 2, 'max_depth': 10, 'learning_rate': 0.1}\n",
      "Best score: 5646819.77292596\n"
     ]
    }
   ],
   "source": [
    "from sklearn.model_selection import RandomizedSearchCV\n",
    "param_grid = {\n",
    "    \"n_estimators\": [2,150],\n",
    "    \"max_depth\": [5, 10],\n",
    "    \"learning_rate\": [0.1, 0.01],\n",
    "    \"min_samples_split\": [2, 5],\n",
    "    \"min_samples_leaf\": [1, 2],\n",
    "}\n",
    "\n",
    "regressor = GradientBoostingRegressor()\n",
    "\n",
    "scoring = make_scorer(mean_squared_error, greater_is_better=False)\n",
    "\n",
    "grid_search = RandomizedSearchCV(regressor, \n",
    "                                 param_distributions = param_grid, \n",
    "                                 n_iter=5, \n",
    "                                 cv=5,\n",
    "                                 scoring=scoring)\n",
    "\n",
    "\n",
    "grid_search.fit(x_train, y_train)\n",
    "\n",
    "print(\"Best parameters:\", grid_search.best_params_)\n",
    "print(\"Best score:\", -grid_search.best_score_)\n"
   ]
  },
  {
   "cell_type": "code",
   "execution_count": 370,
   "metadata": {},
   "outputs": [
    {
     "data": {
      "text/plain": [
       "{'Mean Absolute Error (MAE)': 57.0212954474427,\n",
       " 'Mean Squared Error (MSE)': 7668.666555264633,\n",
       " 'Root Mean Squared Error (RMSE)': 87.57092300110027,\n",
       " 'R-squared (R2)': 0.9994900060360234}"
      ]
     },
     "execution_count": 370,
     "metadata": {},
     "output_type": "execute_result"
    }
   ],
   "source": [
    "score_generator(grid_search.best_estimator_, 'Gradient Boosting', 'train')"
   ]
  },
  {
   "cell_type": "code",
   "execution_count": 350,
   "metadata": {},
   "outputs": [
    {
     "data": {
      "text/plain": [
       "{'Mean Absolute Error (MAE)': 161.04601903488867,\n",
       " 'Mean Squared Error (MSE)': 79551.68165228437,\n",
       " 'Root Mean Squared Error (RMSE)': 282.04907667334135,\n",
       " 'R-squared (R2)': 0.9929285755543675}"
      ]
     },
     "execution_count": 350,
     "metadata": {},
     "output_type": "execute_result"
    }
   ],
   "source": [
    "score_generator(grid_search.best_estimator_, 'Gradient Boosting', 'test')"
   ]
  }
 ],
 "metadata": {
  "kernelspec": {
   "display_name": "mohit_chodisetti",
   "language": "python",
   "name": "python3"
  },
  "language_info": {
   "codemirror_mode": {
    "name": "ipython",
    "version": 3
   },
   "file_extension": ".py",
   "mimetype": "text/x-python",
   "name": "python",
   "nbconvert_exporter": "python",
   "pygments_lexer": "ipython3",
   "version": "3.8.0"
  },
  "orig_nbformat": 4
 },
 "nbformat": 4,
 "nbformat_minor": 2
}
