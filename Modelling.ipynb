{
 "cells": [
  {
   "cell_type": "code",
   "execution_count": 1,
   "metadata": {},
   "outputs": [],
   "source": [
    "import pandas as pd\n",
    "import numpy as np"
   ]
  },
  {
   "cell_type": "code",
   "execution_count": 6,
   "metadata": {},
   "outputs": [],
   "source": [
    "df=pd.read_csv(\"data.csv\")"
   ]
  },
  {
   "cell_type": "code",
   "execution_count": 8,
   "metadata": {},
   "outputs": [
    {
     "name": "stdout",
     "output_type": "stream",
     "text": [
      "<class 'pandas.core.frame.DataFrame'>\n",
      "RangeIndex: 5235 entries, 0 to 5234\n",
      "Data columns (total 18 columns):\n",
      " #   Column                               Non-Null Count  Dtype  \n",
      "---  ------                               --------------  -----  \n",
      " 0   Unnamed: 0                           5235 non-null   int64  \n",
      " 1   State                                5235 non-null   object \n",
      " 2   AgencyType                           5235 non-null   object \n",
      " 3   AgencyName                           5235 non-null   object \n",
      " 4   Population                           5235 non-null   float64\n",
      " 5   DrugNarcoticOffenses                 4752 non-null   float64\n",
      " 6   DrugNarcoticViolations               4724 non-null   float64\n",
      " 7   DrugEquipmentViolations              3550 non-null   float64\n",
      " 8   GamblingOffenses                     219 non-null    float64\n",
      " 9   BettingWagering                      75 non-null     float64\n",
      " 10  OperatingPromotingAssistingGambling  132 non-null    float64\n",
      " 11  GamblingEquipmentViolations          78 non-null     float64\n",
      " 12  SportsTampering                      3 non-null      float64\n",
      " 13  PornographyObsceneMaterial           1600 non-null   float64\n",
      " 14  ProstitutionOffenses                 725 non-null    float64\n",
      " 15  Prostitution                         587 non-null    float64\n",
      " 16  AssistingorPromotingProstitution     349 non-null    float64\n",
      " 17  WeaponLawViolations                  3689 non-null   float64\n",
      "dtypes: float64(14), int64(1), object(3)\n",
      "memory usage: 736.3+ KB\n"
     ]
    }
   ],
   "source": [
    "df.info()"
   ]
  },
  {
   "cell_type": "code",
   "execution_count": 10,
   "metadata": {},
   "outputs": [
    {
     "data": {
      "text/plain": [
       "Unnamed: 0                              0.000000\n",
       "State                                   0.000000\n",
       "AgencyType                              0.000000\n",
       "AgencyName                              0.000000\n",
       "Population                              0.000000\n",
       "DrugNarcoticOffenses                    9.226361\n",
       "DrugNarcoticViolations                  9.761223\n",
       "DrugEquipmentViolations                32.187202\n",
       "GamblingOffenses                       95.816619\n",
       "BettingWagering                        98.567335\n",
       "OperatingPromotingAssistingGambling    97.478510\n",
       "GamblingEquipmentViolations            98.510029\n",
       "SportsTampering                        99.942693\n",
       "PornographyObsceneMaterial             69.436485\n",
       "ProstitutionOffenses                   86.150907\n",
       "Prostitution                           88.787011\n",
       "AssistingorPromotingProstitution       93.333333\n",
       "WeaponLawViolations                    29.531996\n",
       "dtype: float64"
      ]
     },
     "execution_count": 10,
     "metadata": {},
     "output_type": "execute_result"
    }
   ],
   "source": [
    "null_percentages = df.isnull().sum() / len(df) * 100\n",
    "null_percentages"
   ]
  },
  {
   "cell_type": "code",
   "execution_count": 15,
   "metadata": {},
   "outputs": [
    {
     "data": {
      "text/plain": [
       "count     4752.000000\n",
       "mean       119.711490\n",
       "std        386.257438\n",
       "min          1.000000\n",
       "25%         10.000000\n",
       "50%         34.000000\n",
       "75%         98.000000\n",
       "max      14921.000000\n",
       "Name: DrugNarcoticOffenses, dtype: float64"
      ]
     },
     "execution_count": 15,
     "metadata": {},
     "output_type": "execute_result"
    }
   ],
   "source": [
    "df['DrugNarcoticOffenses'].describe()"
   ]
  },
  {
   "cell_type": "code",
   "execution_count": null,
   "metadata": {},
   "outputs": [],
   "source": [
    "def "
   ]
  },
  {
   "attachments": {},
   "cell_type": "markdown",
   "metadata": {},
   "source": [
    "# Train Test Split"
   ]
  },
  {
   "cell_type": "code",
   "execution_count": null,
   "metadata": {},
   "outputs": [],
   "source": [
    "X=df.drop('mh_disorder_current', axis=1)"
   ]
  },
  {
   "cell_type": "code",
   "execution_count": null,
   "metadata": {},
   "outputs": [],
   "source": [
    "y=df['mh_disorder_current']"
   ]
  },
  {
   "cell_type": "code",
   "execution_count": 3,
   "metadata": {},
   "outputs": [
    {
     "ename": "NameError",
     "evalue": "name 'X' is not defined",
     "output_type": "error",
     "traceback": [
      "\u001b[1;31m---------------------------------------------------------------------------\u001b[0m",
      "\u001b[1;31mNameError\u001b[0m                                 Traceback (most recent call last)",
      "\u001b[1;32md:\\New folder\\Hackathon\\Modelling.ipynb Cell 6\u001b[0m in \u001b[0;36m<cell line: 2>\u001b[1;34m()\u001b[0m\n\u001b[0;32m      <a href='vscode-notebook-cell:/d%3A/New%20folder/Hackathon/Modelling.ipynb#W2sZmlsZQ%3D%3D?line=0'>1</a>\u001b[0m \u001b[39mfrom\u001b[39;00m \u001b[39msklearn\u001b[39;00m\u001b[39m.\u001b[39;00m\u001b[39mmodel_selection\u001b[39;00m \u001b[39mimport\u001b[39;00m train_test_split\n\u001b[1;32m----> <a href='vscode-notebook-cell:/d%3A/New%20folder/Hackathon/Modelling.ipynb#W2sZmlsZQ%3D%3D?line=1'>2</a>\u001b[0m x_train, x_test, y_train, y_test \u001b[39m=\u001b[39m train_test_split(X,y, test_size\u001b[39m=\u001b[39m\u001b[39m0.2\u001b[39m, random_state\u001b[39m=\u001b[39m\u001b[39m32\u001b[39m)\n",
      "\u001b[1;31mNameError\u001b[0m: name 'X' is not defined"
     ]
    }
   ],
   "source": [
    "from sklearn.model_selection import train_test_split\n",
    "x_train, x_test, y_train, y_test = train_test_split(X,y, test_size=0.2, random_state=32)"
   ]
  },
  {
   "attachments": {},
   "cell_type": "markdown",
   "metadata": {},
   "source": [
    "# Scores Generator"
   ]
  },
  {
   "cell_type": "code",
   "execution_count": 4,
   "metadata": {},
   "outputs": [],
   "source": [
    "def score_generator(model, name='not-specified', type='train'):\n",
    "    y_pred = model.predict(x_train)\n",
    "\n",
    "    mae = mean_absolute_error(y_true, y_pred)\n",
    "    mse = mean_squared_error(y_true, y_pred)\n",
    "    rmse = mean_squared_error(y_true, y_pred, squared=False)\n",
    "    r2 = r2_score(y_true, y_pred)\n",
    "\n",
    "    metrics_dict = {\n",
    "        'Mean Absolute Error (MAE)': mae,\n",
    "        'Mean Squared Error (MSE)': mse,\n",
    "        'Root Mean Squared Error (RMSE)': rmse,\n",
    "        'R-squared (R2)': r2\n",
    "    }\n",
    "\n",
    "    return metrics_dict\n"
   ]
  },
  {
   "attachments": {},
   "cell_type": "markdown",
   "metadata": {},
   "source": [
    "# Linear Model"
   ]
  },
  {
   "cell_type": "code",
   "execution_count": null,
   "metadata": {},
   "outputs": [],
   "source": []
  }
 ],
 "metadata": {
  "kernelspec": {
   "display_name": "mohit_chodisetti",
   "language": "python",
   "name": "python3"
  },
  "language_info": {
   "codemirror_mode": {
    "name": "ipython",
    "version": 3
   },
   "file_extension": ".py",
   "mimetype": "text/x-python",
   "name": "python",
   "nbconvert_exporter": "python",
   "pygments_lexer": "ipython3",
   "version": "3.8.0"
  },
  "orig_nbformat": 4
 },
 "nbformat": 4,
 "nbformat_minor": 2
}
